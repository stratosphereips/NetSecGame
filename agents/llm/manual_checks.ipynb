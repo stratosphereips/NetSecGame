{
 "cells": [
  {
   "cell_type": "code",
   "execution_count": 7,
   "id": "e82158b0",
   "metadata": {},
   "outputs": [],
   "source": [
    "import sys\n",
    "from os import path\n",
    "\n",
    "# This depends on where the file is placed. If it is in the 'agents/llm/' it will work\n",
    "# also there will be a log in 'agents/llm/env/logs' (it is relative to path) \n",
    "sys.path.append('../..')\n",
    "\n",
    "from env.network_security_game import Network_Security_Environment\n",
    "from env.scenarios import scenario_configuration, smaller_scenario_configuration, tiny_scenario_configuration\n",
    "from env.game_components import ActionType, Action, IP, Data\n",
    "\n",
    "\n",
    "from cyst.api.configuration import *\n",
    "import openai\n",
    "from tenacity import retry, stop_after_attempt\n",
    "import argparse\n",
    "import jinja2"
   ]
  },
  {
   "cell_type": "code",
   "execution_count": 51,
   "id": "be19cb85",
   "metadata": {},
   "outputs": [],
   "source": [
    "# I do not show the locl services right now because they are not used in the game\n",
    "local_services = ['bash', 'powershell', 'remote desktop service', 'windows login', 'can_attack_start_here']\n",
    "\n",
    "# Needed to create the Action object\n",
    "action_mapper = {\n",
    "    \"ScanNetwork\": ActionType.ScanNetwork,\n",
    "    \"FindServices\": ActionType.FindServices,\n",
    "    \"FindData\": ActionType.FindData,\n",
    "    \"ExfiltrateData\": ActionType.ExfiltrateData,\n",
    "    \"ExploitService\": ActionType.ExploitService\n",
    "}"
   ]
  },
  {
   "cell_type": "code",
   "execution_count": 64,
   "id": "f696f896",
   "metadata": {},
   "outputs": [],
   "source": [
    "# Validate the action send by the LLM\n",
    "# If it is not valid I don't send it to the game\n",
    "# There might be a bug in FindData and ExflitrateData because I could not test\n",
    "# Aldo, the actions are invalid if are about hosts we don't know at the momemt\n",
    "# bacause the environo\n",
    "\n",
    "def validate_action_in_state(response, state):\n",
    "    contr_hosts = [str(host) for host in state.controlled_hosts]\n",
    "    known_hosts = [str(host) for host in state.known_hosts]\n",
    "    known_nets = [str(net) for net in list(state.known_networks)]\n",
    "\n",
    "    try:\n",
    "        if response[\"action\"] == 'ScanNetwork':\n",
    "            if response[\"parameters\"][\"target_network\"] in known_nets:\n",
    "                return True \n",
    "        elif response[\"action\"] == 'FindServices':\n",
    "            if response[\"parameters\"][\"target_host\"] in known_hosts:\n",
    "                return True\n",
    "        elif response[\"action\"] == 'ExploitService':\n",
    "            ip_addr = response[\"parameters\"][\"target_host\"]\n",
    "            if ip_addr in known_hosts: \n",
    "                for service in list(state.known_services[ip_addr]):\n",
    "                    if service.name == response[\"parameters\"][\"target_service\"]:\n",
    "                        return True\n",
    "        elif response[\"action\"] == 'FindData':\n",
    "            if response[\"parameters\"][\"target_host\"] in contr_hosts:\n",
    "                return True\n",
    "        else:\n",
    "            for ip_data in state.known_data:\n",
    "                params = response[\"parameters\"]\n",
    "                if isinstance(params, str):\n",
    "                    params = eval(params)\n",
    "                ip_addr = params[\"source_host\"]\n",
    "                if ip_data == ip_addr and ip_addr in contr_hosts:\n",
    "                    if params[\"data\"] in list(state.known_data[ip_data]):\n",
    "                        return True\n",
    "        return False \n",
    "    except:\n",
    "        return False"
   ]
  },
  {
   "cell_type": "code",
   "execution_count": 53,
   "id": "3323e6c8",
   "metadata": {},
   "outputs": [],
   "source": [
    "def create_status_from_state(state, memories):\n",
    "    \"\"\"\n",
    "    Read the returned states and the memories (if exist) and create\n",
    "    a status prompt for the LLM\n",
    "    \"\"\"\n",
    "    contr_hosts = [str(host) for host in state.controlled_hosts]\n",
    "    known_hosts = [str(host) for host in state.known_hosts]\n",
    "    known_nets = [str(net) for net in list(state.known_networks)]\n",
    "\n",
    "    prompt = \"Current status:\\n\"\n",
    "    if len(memories) > 0:\n",
    "        for memory in memories:\n",
    "            prompt += f'You have taken action {{\"action\":\"{memory[0]}\", \"parameters\":\"{memory[1]}\"}} in the past. {memory[2]}\\n' \n",
    "    else:\n",
    "        prompt += \"\"\n",
    "    prompt += f\"Controlled hosts are {' and '.join(contr_hosts)}\\n\"\n",
    "    \n",
    "    prompt += f\"Known networks are {' and '.join(known_nets)}\\n\"\n",
    "    prompt += f\"Known hosts are {' and '.join(known_hosts)}\\n\"\n",
    "\n",
    "    for ip_service in state.known_services:\n",
    "        services = []\n",
    "        if len(list(state.known_services[ip_service])) > 0:\n",
    "            for serv in state.known_services[ip_service]:\n",
    "                if serv.name not in local_services:\n",
    "                    services.append(serv.name)\n",
    "            if len(services) > 0:\n",
    "                prompt += f\"Known services for host {ip_service} are {' and '.join(str(services))}\\n\"\n",
    "    \n",
    "    for ip_data in state.known_data:\n",
    "        if len(state.known_data[ip_data]) > 0:\n",
    "            prompt += f\"Known data for host {ip_data} are {' and '.join(list(state.known_data[ip_data]))}\\n\"\n",
    "\n",
    "    return prompt"
   ]
  },
  {
   "cell_type": "code",
   "execution_count": 54,
   "id": "5b42ba5f",
   "metadata": {},
   "outputs": [],
   "source": [
    "# Initial goal\n",
    "goal = {\n",
    "    \"known_networks\":set(),\n",
    "    \"known_hosts\":set(),\n",
    "    \"controlled_hosts\":set(),\n",
    "    \"known_services\":{},\n",
    "    \"known_data\":{IP(\"213.47.23.195\"):Data(\"User1\", \"DataFromServer1\")}\n",
    "}\n",
    "\n",
    "attacker_start = {\n",
    "    \"known_networks\":set(),\n",
    "    \"known_hosts\":set(),\n",
    "    \"controlled_hosts\":{IP(\"213.47.23.195\"),IP(\"192.168.2.2\")},\n",
    "    \"known_services\":{},\n",
    "    \"known_data\":{}\n",
    "}"
   ]
  },
  {
   "cell_type": "code",
   "execution_count": 55,
   "id": "50eb0602",
   "metadata": {},
   "outputs": [],
   "source": [
    "# Create the environment with the big scenario\n",
    "env = Network_Security_Environment(random_start=False, verbosity=0)\n",
    "cyst_config = scenario_configuration.configuration_objects"
   ]
  },
  {
   "cell_type": "code",
   "execution_count": 57,
   "id": "63bfd153",
   "metadata": {},
   "outputs": [],
   "source": [
    "# Init the environment\n",
    "observation = env.initialize(win_conditions=goal, \n",
    "                                 defender_positions=False, \n",
    "                                 attacker_start_position=attacker_start, \n",
    "                                 max_steps=30, \n",
    "                                 agent_seed=42,\n",
    "                                 cyst_config=cyst_config)\n"
   ]
  },
  {
   "cell_type": "code",
   "execution_count": 58,
   "id": "42a8f1ed",
   "metadata": {},
   "outputs": [
    {
     "name": "stdout",
     "output_type": "stream",
     "text": [
      "<bound method GameState.as_json of GameState(controlled_hosts={213.47.23.195, 192.168.2.2}, known_hosts={213.47.23.195, 192.168.2.2}, known_services={}, known_data={}, known_networks={192.168.2.0/24, 192.168.3.0/24, 192.168.1.0/24})>\n"
     ]
    }
   ],
   "source": [
    "print(observation.state.as_json)"
   ]
  },
  {
   "cell_type": "code",
   "execution_count": 47,
   "id": "845117b0",
   "metadata": {},
   "outputs": [
    {
     "name": "stdout",
     "output_type": "stream",
     "text": [
      "Current status:\n",
      "Controlled hosts are 213.47.23.195 and 192.168.2.2\n",
      "Known networks are 192.168.2.0/24 and 192.168.3.0/24 and 192.168.1.0/24\n",
      "Known hosts are 213.47.23.195 and 192.168.2.2\n",
      "\n"
     ]
    }
   ],
   "source": [
    "# This is the status prompt\n",
    "print(create_status_from_state(observation.state, []))"
   ]
  },
  {
   "cell_type": "code",
   "execution_count": 48,
   "id": "4e9b7a84",
   "metadata": {},
   "outputs": [],
   "source": [
    "# Create the action the LLM give manually\n",
    "response = {\"action\":\"FindServices\", \"parameters\":{\"target_host\": \"192.168.2.3\"}}\n",
    "params = response[\"parameters\"]"
   ]
  },
  {
   "cell_type": "code",
   "execution_count": 63,
   "id": "6d54e9a1",
   "metadata": {},
   "outputs": [
    {
     "data": {
      "text/plain": [
       "False"
      ]
     },
     "execution_count": 63,
     "metadata": {},
     "output_type": "execute_result"
    }
   ],
   "source": [
    "# Validate the action\n",
    "# This is optional in the manual test, let the environment tell you if it's a valid action\n",
    "validate_action_in_state(response, observation.state)"
   ]
  },
  {
   "cell_type": "code",
   "execution_count": 59,
   "id": "db9d3af2",
   "metadata": {},
   "outputs": [
    {
     "data": {
      "text/plain": [
       "Action <ActionType.FindServices|{'target_host': '192.168.2.3'}>"
      ]
     },
     "execution_count": 59,
     "metadata": {},
     "output_type": "execute_result"
    }
   ],
   "source": [
    "# Take the action\n",
    "action = Action(action_mapper[response[\"action\"]], params)\n",
    "action"
   ]
  },
  {
   "cell_type": "code",
   "execution_count": 60,
   "id": "62e14871",
   "metadata": {},
   "outputs": [
    {
     "data": {
      "text/plain": [
       "<bound method GameState.as_json of GameState(controlled_hosts={213.47.23.195, 192.168.2.2}, known_hosts={213.47.23.195, 192.168.2.2}, known_services={}, known_data={}, known_networks={192.168.2.0/24, 192.168.3.0/24, 192.168.1.0/24})>"
      ]
     },
     "execution_count": 60,
     "metadata": {},
     "output_type": "execute_result"
    }
   ],
   "source": [
    "# Read the new state\n",
    "observation = env.step(action)\n",
    "observation.state.as_json"
   ]
  },
  {
   "cell_type": "code",
   "execution_count": 62,
   "id": "02299e40",
   "metadata": {},
   "outputs": [],
   "source": [
    "# If the new state is \"bigger\" that the previous tell the LLM it was successfull\n",
    "# If not tell it it was not helpful\n",
    "# If it was invalid, say it was invalid"
   ]
  },
  {
   "cell_type": "code",
   "execution_count": null,
   "id": "96a87594",
   "metadata": {},
   "outputs": [],
   "source": []
  }
 ],
 "metadata": {
  "kernelspec": {
   "display_name": "Python 3 (ipykernel)",
   "language": "python",
   "name": "python3"
  },
  "language_info": {
   "codemirror_mode": {
    "name": "ipython",
    "version": 3
   },
   "file_extension": ".py",
   "mimetype": "text/x-python",
   "name": "python",
   "nbconvert_exporter": "python",
   "pygments_lexer": "ipython3",
   "version": "3.11.3"
  }
 },
 "nbformat": 4,
 "nbformat_minor": 5
}
